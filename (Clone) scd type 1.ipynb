{
 "cells": [
  {
   "cell_type": "code",
   "execution_count": 0,
   "metadata": {
    "application/vnd.databricks.v1+cell": {
     "cellMetadata": {
      "byteLimit": 2048000,
      "rowLimit": 10000
     },
     "inputWidgets": {},
     "nuid": "c56cc418-0f59-4987-960b-3a3139523c91",
     "showTitle": false,
     "tableResultSettingsMap": {},
     "title": ""
    }
   },
   "outputs": [],
   "source": [
    "from pyspark.sql.types import StructType, StructField, IntegerType, StringType, DoubleType\n",
    "from delta.tables import DeltaTable"
   ]
  },
  {
   "cell_type": "code",
   "execution_count": 0,
   "metadata": {
    "application/vnd.databricks.v1+cell": {
     "cellMetadata": {
      "byteLimit": 2048000,
      "rowLimit": 10000
     },
     "inputWidgets": {},
     "nuid": "bae74bb7-4d46-453a-a787-27717d7599b2",
     "showTitle": false,
     "tableResultSettingsMap": {},
     "title": ""
    }
   },
   "outputs": [],
   "source": [
    "# Define the schema\n",
    "schema = StructType([\n",
    "    StructField(\"emp_id\", IntegerType(), True),\n",
    "    StructField(\"name\", StringType(), True),\n",
    "    StructField(\"department\", StringType(), True),\n",
    "    StructField(\"salary\", IntegerType(), True),\n",
    "    StructField(\"city\", StringType(), True),\n",
    "    StructField(\"phone\", StringType(), True),\n",
    "    StructField(\"email\", StringType(), True)\n",
    "])\n",
    "\n",
    "# Initial data for the delta table\n",
    "data = [\n",
    "    (1, \"Alice\", \"HR\", 60000, \"New York\", \"1234567890\", \"alice@abc.com\"),\n",
    "    (2, \"Bob\", \"IT\", 80000, \"San Francisco\", \"2345678901\", \"bob@abc.com\"),\n",
    "    (3, \"Charlie\", \"Finance\", 75000, \"Chicago\", \"3456789012\", \"charlie@abc.com\"),\n",
    "    (4, \"David\", \"Marketing\", 65000, \"Boston\", \"4567890123\", \"david@abc.com\")\n",
    "]\n",
    "\n",
    "# Create DataFrame\n",
    "df = spark.createDataFrame(data, schema)\n",
    "\n",
    "# Write to Delta Table\n",
    "df.write.format(\"delta\").mode(\"overwrite\").saveAsTable(\"dim_employee\")"
   ]
  },
  {
   "cell_type": "code",
   "execution_count": 0,
   "metadata": {
    "application/vnd.databricks.v1+cell": {
     "cellMetadata": {
      "byteLimit": 2048000,
      "implicitDf": true,
      "rowLimit": 10000
     },
     "inputWidgets": {},
     "nuid": "0b785932-bcff-45a4-b57c-e7e60918ff2d",
     "showTitle": false,
     "tableResultSettingsMap": {},
     "title": ""
    }
   },
   "outputs": [],
   "source": [
    "%sql\n",
    "select * from dim_employee"
   ]
  },
  {
   "cell_type": "code",
   "execution_count": 0,
   "metadata": {
    "application/vnd.databricks.v1+cell": {
     "cellMetadata": {
      "byteLimit": 2048000,
      "rowLimit": 10000
     },
     "inputWidgets": {},
     "nuid": "3cbecb02-2eb8-4a9f-93b0-ef4896d728eb",
     "showTitle": false,
     "tableResultSettingsMap": {},
     "title": ""
    }
   },
   "outputs": [],
   "source": [
    "# Read the incoming CSV file directly into a DataFrame\n",
    "incoming_df = (\n",
    "    spark.read\n",
    "    .option(\"header\", True)\n",
    "    .option(\"inferSchema\", True)\n",
    "    .csv(\"/mnt/input-data/emp_incoming.csv\")\n",
    ")\n"
   ]
  },
  {
   "cell_type": "code",
   "execution_count": 0,
   "metadata": {
    "application/vnd.databricks.v1+cell": {
     "cellMetadata": {
      "byteLimit": 2048000,
      "rowLimit": 10000
     },
     "inputWidgets": {},
     "nuid": "cb11f250-680c-462e-b6c9-1441231e6202",
     "showTitle": false,
     "tableResultSettingsMap": {},
     "title": ""
    }
   },
   "outputs": [],
   "source": [
    "incoming_df.display()"
   ]
  },
  {
   "cell_type": "code",
   "execution_count": 0,
   "metadata": {
    "application/vnd.databricks.v1+cell": {
     "cellMetadata": {
      "byteLimit": 2048000,
      "rowLimit": 10000
     },
     "inputWidgets": {},
     "nuid": "11e7a13a-c133-4f55-8146-e993e9294074",
     "showTitle": false,
     "tableResultSettingsMap": {},
     "title": ""
    }
   },
   "outputs": [],
   "source": [
    "# Reference the target Delta table\n",
    "target_table = DeltaTable.forName(spark, \"dim_employee\")\n",
    "\n",
    "# Perform the SCD Type 1 merge\n",
    "(\n",
    "    target_table.alias(\"target\")\n",
    "    .merge(\n",
    "        source=incoming_df.alias(\"source\"),\n",
    "        condition=\"target.emp_id = source.emp_id\"\n",
    "    )\n",
    "    .whenMatchedUpdate(set={\n",
    "        \"name\": \"source.name\",\n",
    "        \"department\": \"source.department\",\n",
    "        \"salary\": \"source.salary\",\n",
    "        \"city\": \"source.city\",\n",
    "        \"phone\": \"source.phone\",\n",
    "        \"email\": \"source.email\"\n",
    "    })\n",
    "    .whenNotMatchedInsert(values={\n",
    "        \"emp_id\": \"source.emp_id\",\n",
    "        \"name\": \"source.name\",\n",
    "        \"department\": \"source.department\",\n",
    "        \"salary\": \"source.salary\",\n",
    "        \"city\": \"source.city\",\n",
    "        \"phone\": \"source.phone\",\n",
    "        \"email\": \"source.email\"\n",
    "    })\n",
    "    .execute()\n",
    ")\n",
    "\n",
    "display(spark.sql(\"SELECT * FROM dim_employee ORDER BY emp_id\"))\n",
    "\n"
   ]
  },
  {
   "cell_type": "code",
   "execution_count": 0,
   "metadata": {
    "application/vnd.databricks.v1+cell": {
     "cellMetadata": {},
     "inputWidgets": {},
     "nuid": "356c5fb9-4867-4d56-966f-a34fce909f89",
     "showTitle": false,
     "tableResultSettingsMap": {},
     "title": ""
    }
   },
   "outputs": [],
   "source": [
    "%sql\n",
    "select * from emp;"
   ]
  }
 ],
 "metadata": {
  "application/vnd.databricks.v1+notebook": {
   "computePreferences": null,
   "dashboards": [],
   "environmentMetadata": {
    "base_environment": "",
    "environment_version": "3"
   },
   "inputWidgetPreferences": null,
   "language": "python",
   "notebookMetadata": {
    "mostRecentlyExecutedCommandWithImplicitDF": {
     "commandId": 5425511410256040,
     "dataframes": [
      "_sqldf"
     ]
    },
    "pythonIndentUnit": 4
   },
   "notebookName": "(Clone) scd type 1",
   "widgets": {}
  },
  "language_info": {
   "name": "python"
  }
 },
 "nbformat": 4,
 "nbformat_minor": 0
}
